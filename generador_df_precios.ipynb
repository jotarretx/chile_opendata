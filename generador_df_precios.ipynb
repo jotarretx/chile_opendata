{
 "cells": [
  {
   "cell_type": "markdown",
   "metadata": {},
   "source": [
    "# Ingesta de Datos Precios al Consumidor"
   ]
  },
  {
   "cell_type": "code",
   "execution_count": 56,
   "metadata": {},
   "outputs": [],
   "source": [
    "import requests\n",
    "import glob\n",
    "import os\n",
    "\n",
    "import unidecode\n",
    "import pandas as pd"
   ]
  },
  {
   "cell_type": "markdown",
   "metadata": {},
   "source": [
    "## Loading datos"
   ]
  },
  {
   "cell_type": "code",
   "execution_count": 24,
   "metadata": {},
   "outputs": [],
   "source": [
    "ids = {\n",
    "    \n",
    "    2008:\"ce3ee3f9-64d9-47cb-8410-3a5efc5c556d\",\n",
    "    2009:\"c3368d09-548c-4237-aeae-fabe44fb4fab\",\n",
    "    2010:\"13d4f76c-89ee-4b28-9a44-f36d4d12490a\",\n",
    "    2011:\"81aec091-3864-42b3-8fc7-40af01596c46\",\n",
    "    2012:\"f21bfea7-7c7d-4719-a30b-83ab93c5d778\",\n",
    "    2013:\"8ffb24c7-f96e-4313-9a1f-de7ccc80f5ab\",\n",
    "    2014:\"e6c1ec11-75f8-48c6-9436-404667d1574a\",\n",
    "    2015:\"10c5d3a5-2156-4b25-8204-29de777beb0b\",\n",
    "    2016:\"424470c6-5357-4d2b-9755-8da62864286b\",\n",
    "    2017:\"0d1ed43e-a3d0-4cfc-8c17-f004f33bbfbb\",\n",
    "    2018:\"6e2fdb16-6095-434f-9118-c81bdf8ea0b6\",\n",
    "    2019:\"0ca89699-9a0a-40d3-867e-85ee2b2a1d4f\",\n",
    "    2020:\"d2a6ca13-09b8-42e2-a5fb-22345dc79d00\",\n",
    "    2021:\"9078be17-bb39-414d-bc56-0f8c0e994ce9\",\n",
    "    2022:\"46580cb7-605f-44be-9402-40ba5891c878\",\n",
    "    2023:\"2c238cbd-2508-46f6-9a52-6aad18f45a9a\",\n",
    "    2024:\"557c130a-7775-46d0-b245-6a3481d9208e\"\n",
    "}"
   ]
  },
  {
   "cell_type": "code",
   "execution_count": 27,
   "metadata": {},
   "outputs": [
    {
     "name": "stdout",
     "output_type": "stream",
     "text": [
      "Fallo al intentar descargar datos de 2020. Status code: 404\n",
      "Fallo al intentar descargar datos de 2022. Status code: 404\n",
      "Fallo al intentar descargar datos de 2023. Status code: 404\n",
      "Fallo al intentar descargar datos de 2024. Status code: 404\n"
     ]
    }
   ],
   "source": [
    "dataframes = []\n",
    "for year,id in ids.items():\n",
    "    url = f\"https://datos.gob.cl/api/action/datastore_search?&resource_id={id}&limit=999999999\"\n",
    "    # Realizamos GET\n",
    "    response = requests.get(url)\n",
    "\n",
    "    # Si es exitoso concatenar, en caso contrario print\n",
    "    if response.status_code == 200:\n",
    "        # Parseando el JSON\n",
    "        json_data = response.json()\n",
    "        # Extrayendo datos de interés\n",
    "        records = json_data[\"result\"][\"records\"]\n",
    "        df = pd.DataFrame(records)\n",
    "        dataframes.append(df)\n",
    "    else:\n",
    "        print(f\"Fallo al intentar descargar datos de {year}. Status code: {response.status_code}\")"
   ]
  },
  {
   "cell_type": "code",
   "execution_count": null,
   "metadata": {},
   "outputs": [],
   "source": [
    "# Agregando faltantes\n",
    "csv_files = glob.glob(os.path.join(\"data\", \"*.csv\"))"
   ]
  },
  {
   "cell_type": "code",
   "execution_count": 40,
   "metadata": {},
   "outputs": [],
   "source": [
    "# Loop over each CSV file path\n",
    "for file in csv_files:\n",
    "    # Read each CSV file into a DataFrame\n",
    "    df = pd.read_csv(file)\n",
    "    \n",
    "    # Append the DataFrame to the list\n",
    "    dataframes.append(df)"
   ]
  },
  {
   "cell_type": "code",
   "execution_count": 94,
   "metadata": {},
   "outputs": [],
   "source": [
    "final_df = pd.concat(dataframes, ignore_index=True)"
   ]
  },
  {
   "cell_type": "markdown",
   "metadata": {},
   "source": [
    "## Procesado"
   ]
  },
  {
   "cell_type": "markdown",
   "metadata": {},
   "source": [
    "### Merge columnas año"
   ]
  },
  {
   "cell_type": "code",
   "execution_count": 95,
   "metadata": {},
   "outputs": [
    {
     "name": "stdout",
     "output_type": "stream",
     "text": [
      "['_id', '\\ufeffAño', 'Mes', 'Semana', 'Fecha inicio', 'Fecha término', 'ID región', 'Región', 'Sector', 'Tipo de punto monitoreo', 'Grupo', 'Producto', 'Variedad', 'Calidad', 'Unidad', 'Precio mínimo', 'Precio máximo', 'Precio promedio', 'Año']\n"
     ]
    }
   ],
   "source": [
    "# Vemos un cambio en el orden de las columnas\n",
    "print(final_df.columns.tolist())"
   ]
  },
  {
   "cell_type": "code",
   "execution_count": 96,
   "metadata": {},
   "outputs": [
    {
     "name": "stdout",
     "output_type": "stream",
     "text": [
      "Are the columns complementary? True\n"
     ]
    }
   ],
   "source": [
    "# Pequeña revisión para cerciorarnos de que las columnas año se complementan (una es nula y la otra no)\n",
    "mask = (final_df['Año'].isnull() & final_df['\\ufeffAño'].notnull()) | (final_df['\\ufeffAño'].isnull() & final_df['Año'].notnull())\n",
    "complementary_check = mask.all()\n",
    "\n",
    "# Output result\n",
    "print(f\"Are the columns complementary? {complementary_check}\")"
   ]
  },
  {
   "cell_type": "code",
   "execution_count": 97,
   "metadata": {},
   "outputs": [],
   "source": [
    "# Mergeando año\n",
    "final_df['Año'] = final_df['Año'].fillna(final_df['\\ufeffAño'])\n",
    "\n",
    "# Dropeando la extraña\n",
    "final_df.drop(columns=['\\ufeffAño'], inplace=True)"
   ]
  },
  {
   "cell_type": "markdown",
   "metadata": {},
   "source": [
    "### Estandarización nombre columnas"
   ]
  },
  {
   "cell_type": "code",
   "execution_count": 98,
   "metadata": {},
   "outputs": [],
   "source": [
    "def standardize_column_names(df):\n",
    "    \"\"\"\n",
    "    Función para estandarizar nombre de columnas de la df.\n",
    "    \"\"\"\n",
    "    # Convertir a lowercase\n",
    "    df.columns = df.columns.str.lower()\n",
    "    \n",
    "    # Reemplazar guión bajo\n",
    "    df.columns = df.columns.str.replace(' ', '_')\n",
    "    \n",
    "    # Quitar carácteres especiales\n",
    "    df.columns = df.columns.map(lambda x: unidecode.unidecode(x))\n",
    "    \n",
    "    # Reemplazamos ano por anyo\n",
    "    df.columns = df.columns.str.replace('ano', 'anyo', regex=False)\n",
    "    \n",
    "    return df"
   ]
  },
  {
   "cell_type": "code",
   "execution_count": 116,
   "metadata": {},
   "outputs": [],
   "source": [
    "processed_df = standardize_column_names(final_df)"
   ]
  },
  {
   "cell_type": "code",
   "execution_count": 117,
   "metadata": {},
   "outputs": [
    {
     "data": {
      "text/html": [
       "<div>\n",
       "<style scoped>\n",
       "    .dataframe tbody tr th:only-of-type {\n",
       "        vertical-align: middle;\n",
       "    }\n",
       "\n",
       "    .dataframe tbody tr th {\n",
       "        vertical-align: top;\n",
       "    }\n",
       "\n",
       "    .dataframe thead th {\n",
       "        text-align: right;\n",
       "    }\n",
       "</style>\n",
       "<table border=\"1\" class=\"dataframe\">\n",
       "  <thead>\n",
       "    <tr style=\"text-align: right;\">\n",
       "      <th></th>\n",
       "      <th>_id</th>\n",
       "      <th>mes</th>\n",
       "      <th>semana</th>\n",
       "      <th>fecha_inicio</th>\n",
       "      <th>fecha_termino</th>\n",
       "      <th>id_region</th>\n",
       "      <th>region</th>\n",
       "      <th>sector</th>\n",
       "      <th>tipo_de_punto_monitoreo</th>\n",
       "      <th>grupo</th>\n",
       "      <th>producto</th>\n",
       "      <th>variedad</th>\n",
       "      <th>calidad</th>\n",
       "      <th>unidad</th>\n",
       "      <th>precio_minimo</th>\n",
       "      <th>precio_maximo</th>\n",
       "      <th>precio_promedio</th>\n",
       "      <th>anyo</th>\n",
       "    </tr>\n",
       "  </thead>\n",
       "  <tbody>\n",
       "    <tr>\n",
       "      <th>3429304</th>\n",
       "      <td>NaN</td>\n",
       "      <td>3</td>\n",
       "      <td>9</td>\n",
       "      <td>2023-02-27</td>\n",
       "      <td>2023-03-03</td>\n",
       "      <td>13</td>\n",
       "      <td>Región Metropolitana de Santiago</td>\n",
       "      <td>Centro</td>\n",
       "      <td>Supermercado</td>\n",
       "      <td>Lácteos - Huevos - Margarinas</td>\n",
       "      <td>Leche en Polvo Entera</td>\n",
       "      <td>NaN</td>\n",
       "      <td>NaN</td>\n",
       "      <td>$/bolsa 800 grs</td>\n",
       "      <td>6850</td>\n",
       "      <td>6850</td>\n",
       "      <td>6850,00</td>\n",
       "      <td>2023.0</td>\n",
       "    </tr>\n",
       "  </tbody>\n",
       "</table>\n",
       "</div>"
      ],
      "text/plain": [
       "         _id  mes  semana fecha_inicio fecha_termino  id_region  \\\n",
       "3429304  NaN    3       9   2023-02-27    2023-03-03         13   \n",
       "\n",
       "                                   region  sector tipo_de_punto_monitoreo  \\\n",
       "3429304  Región Metropolitana de Santiago  Centro            Supermercado   \n",
       "\n",
       "                                 grupo               producto variedad  \\\n",
       "3429304  Lácteos - Huevos - Margarinas  Leche en Polvo Entera      NaN   \n",
       "\n",
       "        calidad           unidad precio_minimo precio_maximo precio_promedio  \\\n",
       "3429304     NaN  $/bolsa 800 grs          6850          6850         6850,00   \n",
       "\n",
       "           anyo  \n",
       "3429304  2023.0  "
      ]
     },
     "execution_count": 117,
     "metadata": {},
     "output_type": "execute_result"
    }
   ],
   "source": [
    "processed_df.sample()"
   ]
  },
  {
   "cell_type": "markdown",
   "metadata": {},
   "source": [
    "### Nuevo id"
   ]
  },
  {
   "cell_type": "code",
   "execution_count": 118,
   "metadata": {},
   "outputs": [],
   "source": [
    "# Primero ordenamos por anyo, mes y semana\n",
    "processed_df.sort_values([\"anyo\",\"mes\",\"semana\"], inplace=True)"
   ]
  },
  {
   "cell_type": "code",
   "execution_count": 119,
   "metadata": {},
   "outputs": [],
   "source": [
    "# Al ver valores nulos, se dropea y se resetea el index para que funcione como id\n",
    "processed_df = processed_df.drop(columns=['_id'])\n",
    "processed_df = processed_df.reset_index(drop=True)"
   ]
  },
  {
   "cell_type": "markdown",
   "metadata": {},
   "source": [
    "### Data type"
   ]
  },
  {
   "cell_type": "code",
   "execution_count": 120,
   "metadata": {},
   "outputs": [
    {
     "name": "stdout",
     "output_type": "stream",
     "text": [
      "<class 'pandas.core.frame.DataFrame'>\n",
      "RangeIndex: 6656149 entries, 0 to 6656148\n",
      "Data columns (total 17 columns):\n",
      " #   Column                   Dtype  \n",
      "---  ------                   -----  \n",
      " 0   mes                      int64  \n",
      " 1   semana                   int64  \n",
      " 2   fecha_inicio             object \n",
      " 3   fecha_termino            object \n",
      " 4   id_region                int64  \n",
      " 5   region                   object \n",
      " 6   sector                   object \n",
      " 7   tipo_de_punto_monitoreo  object \n",
      " 8   grupo                    object \n",
      " 9   producto                 object \n",
      " 10  variedad                 object \n",
      " 11  calidad                  object \n",
      " 12  unidad                   object \n",
      " 13  precio_minimo            object \n",
      " 14  precio_maximo            object \n",
      " 15  precio_promedio          object \n",
      " 16  anyo                     float64\n",
      "dtypes: float64(1), int64(3), object(13)\n",
      "memory usage: 863.3+ MB\n"
     ]
    }
   ],
   "source": [
    "processed_df.info()"
   ]
  },
  {
   "cell_type": "code",
   "execution_count": 121,
   "metadata": {},
   "outputs": [],
   "source": [
    "# Fechas\n",
    "processed_df['fecha_inicio'] = pd.to_datetime(processed_df['fecha_inicio'], format='%Y-%m-%d', errors='coerce')\n",
    "processed_df['fecha_termino'] = pd.to_datetime(processed_df['fecha_termino'], format='%Y-%m-%d', errors='coerce')"
   ]
  },
  {
   "cell_type": "code",
   "execution_count": 122,
   "metadata": {},
   "outputs": [
    {
     "data": {
      "text/plain": [
       "mes                           12\n",
       "semana                        53\n",
       "fecha_inicio                 192\n",
       "fecha_termino                192\n",
       "id_region                      9\n",
       "region                         9\n",
       "sector                        47\n",
       "tipo_de_punto_monitoreo        7\n",
       "grupo                          7\n",
       "producto                     158\n",
       "variedad                     117\n",
       "calidad                       14\n",
       "unidad                        21\n",
       "precio_minimo              10218\n",
       "precio_maximo              10308\n",
       "precio_promedio            95227\n",
       "anyo                          17\n",
       "dtype: int64"
      ]
     },
     "execution_count": 122,
     "metadata": {},
     "output_type": "execute_result"
    }
   ],
   "source": [
    "processed_df.nunique()"
   ]
  },
  {
   "cell_type": "code",
   "execution_count": 123,
   "metadata": {},
   "outputs": [],
   "source": [
    "# Categorías\n",
    "columns_to_convert = ['region', 'tipo_de_punto_monitoreo', 'grupo', 'calidad']\n",
    "\n",
    "for column in columns_to_convert:\n",
    "    processed_df[column] = processed_df[column].astype('category')"
   ]
  },
  {
   "cell_type": "code",
   "execution_count": 124,
   "metadata": {},
   "outputs": [
    {
     "data": {
      "text/html": [
       "<div>\n",
       "<style scoped>\n",
       "    .dataframe tbody tr th:only-of-type {\n",
       "        vertical-align: middle;\n",
       "    }\n",
       "\n",
       "    .dataframe tbody tr th {\n",
       "        vertical-align: top;\n",
       "    }\n",
       "\n",
       "    .dataframe thead th {\n",
       "        text-align: right;\n",
       "    }\n",
       "</style>\n",
       "<table border=\"1\" class=\"dataframe\">\n",
       "  <thead>\n",
       "    <tr style=\"text-align: right;\">\n",
       "      <th></th>\n",
       "      <th>precio_minimo</th>\n",
       "      <th>precio_maximo</th>\n",
       "      <th>precio_promedio</th>\n",
       "    </tr>\n",
       "  </thead>\n",
       "  <tbody>\n",
       "    <tr>\n",
       "      <th>119568</th>\n",
       "      <td>699</td>\n",
       "      <td>799</td>\n",
       "      <td>749,00</td>\n",
       "    </tr>\n",
       "    <tr>\n",
       "      <th>5122835</th>\n",
       "      <td>1390</td>\n",
       "      <td>1390</td>\n",
       "      <td>1390,00</td>\n",
       "    </tr>\n",
       "    <tr>\n",
       "      <th>5037364</th>\n",
       "      <td>6490</td>\n",
       "      <td>6490</td>\n",
       "      <td>6490,00</td>\n",
       "    </tr>\n",
       "    <tr>\n",
       "      <th>5184242</th>\n",
       "      <td>1790</td>\n",
       "      <td>1790</td>\n",
       "      <td>1790,00</td>\n",
       "    </tr>\n",
       "    <tr>\n",
       "      <th>1194335</th>\n",
       "      <td>2398</td>\n",
       "      <td>2398</td>\n",
       "      <td>2398,00</td>\n",
       "    </tr>\n",
       "    <tr>\n",
       "      <th>5569749</th>\n",
       "      <td>5990</td>\n",
       "      <td>5990</td>\n",
       "      <td>5990,00</td>\n",
       "    </tr>\n",
       "    <tr>\n",
       "      <th>1613018</th>\n",
       "      <td>7980</td>\n",
       "      <td>7980</td>\n",
       "      <td>7980,00</td>\n",
       "    </tr>\n",
       "    <tr>\n",
       "      <th>894527</th>\n",
       "      <td>6090</td>\n",
       "      <td>6090</td>\n",
       "      <td>6090,00</td>\n",
       "    </tr>\n",
       "    <tr>\n",
       "      <th>4508721</th>\n",
       "      <td>1450</td>\n",
       "      <td>1450</td>\n",
       "      <td>1450,00</td>\n",
       "    </tr>\n",
       "    <tr>\n",
       "      <th>3275705</th>\n",
       "      <td>1500</td>\n",
       "      <td>1500</td>\n",
       "      <td>1500,00</td>\n",
       "    </tr>\n",
       "  </tbody>\n",
       "</table>\n",
       "</div>"
      ],
      "text/plain": [
       "        precio_minimo precio_maximo precio_promedio\n",
       "119568            699           799          749,00\n",
       "5122835          1390          1390         1390,00\n",
       "5037364          6490          6490         6490,00\n",
       "5184242          1790          1790         1790,00\n",
       "1194335          2398          2398         2398,00\n",
       "5569749          5990          5990         5990,00\n",
       "1613018          7980          7980         7980,00\n",
       "894527           6090          6090         6090,00\n",
       "4508721          1450          1450         1450,00\n",
       "3275705          1500          1500         1500,00"
      ]
     },
     "execution_count": 124,
     "metadata": {},
     "output_type": "execute_result"
    }
   ],
   "source": [
    "# Numéricas\n",
    "processed_df.filter(like=\"precio\").sample(10)"
   ]
  },
  {
   "cell_type": "code",
   "execution_count": 125,
   "metadata": {},
   "outputs": [],
   "source": [
    "processed_df[\"precio_diff\"] = processed_df[\"precio_minimo\"] != processed_df[\"precio_maximo\"]"
   ]
  },
  {
   "cell_type": "code",
   "execution_count": 126,
   "metadata": {},
   "outputs": [
    {
     "data": {
      "text/plain": [
       "precio_diff\n",
       "False    5981139\n",
       "True      675010\n",
       "Name: count, dtype: int64"
      ]
     },
     "execution_count": 126,
     "metadata": {},
     "output_type": "execute_result"
    }
   ],
   "source": [
    "processed_df[\"precio_diff\"].value_counts(dropna=False)"
   ]
  },
  {
   "cell_type": "code",
   "execution_count": 127,
   "metadata": {},
   "outputs": [],
   "source": [
    "processed_df.drop(columns=[\"precio_diff\"],inplace=True)"
   ]
  },
  {
   "cell_type": "code",
   "execution_count": 128,
   "metadata": {},
   "outputs": [],
   "source": [
    "# Reemplazamos las comas de columnas precio y convertimos a numérico\n",
    "columns_to_fix = ['precio_minimo', 'precio_maximo', 'precio_promedio']\n",
    "\n",
    "for column in columns_to_fix:\n",
    "    processed_df[column] = processed_df[column].str.replace(',', '.', regex=False) \n",
    "    processed_df[column] = pd.to_numeric(processed_df[column], errors='coerce')"
   ]
  },
  {
   "cell_type": "code",
   "execution_count": 129,
   "metadata": {},
   "outputs": [],
   "source": [
    "# Cambiamos año a int\n",
    "processed_df[\"anyo\"] = processed_df[\"anyo\"].astype(\"int16\")"
   ]
  },
  {
   "cell_type": "code",
   "execution_count": 130,
   "metadata": {},
   "outputs": [
    {
     "data": {
      "text/html": [
       "<div>\n",
       "<style scoped>\n",
       "    .dataframe tbody tr th:only-of-type {\n",
       "        vertical-align: middle;\n",
       "    }\n",
       "\n",
       "    .dataframe tbody tr th {\n",
       "        vertical-align: top;\n",
       "    }\n",
       "\n",
       "    .dataframe thead th {\n",
       "        text-align: right;\n",
       "    }\n",
       "</style>\n",
       "<table border=\"1\" class=\"dataframe\">\n",
       "  <thead>\n",
       "    <tr style=\"text-align: right;\">\n",
       "      <th></th>\n",
       "      <th>mes</th>\n",
       "      <th>semana</th>\n",
       "      <th>fecha_inicio</th>\n",
       "      <th>fecha_termino</th>\n",
       "      <th>id_region</th>\n",
       "      <th>region</th>\n",
       "      <th>sector</th>\n",
       "      <th>tipo_de_punto_monitoreo</th>\n",
       "      <th>grupo</th>\n",
       "      <th>producto</th>\n",
       "      <th>variedad</th>\n",
       "      <th>calidad</th>\n",
       "      <th>unidad</th>\n",
       "      <th>precio_minimo</th>\n",
       "      <th>precio_maximo</th>\n",
       "      <th>precio_promedio</th>\n",
       "      <th>anyo</th>\n",
       "    </tr>\n",
       "  </thead>\n",
       "  <tbody>\n",
       "    <tr>\n",
       "      <th>3493598</th>\n",
       "      <td>2</td>\n",
       "      <td>7</td>\n",
       "      <td>2023-02-13</td>\n",
       "      <td>2023-02-17</td>\n",
       "      <td>5</td>\n",
       "      <td>Región de Valparaíso</td>\n",
       "      <td>Viña del Mar</td>\n",
       "      <td>Feria libre</td>\n",
       "      <td>Frutas</td>\n",
       "      <td>Durazno</td>\n",
       "      <td>Elegant Lady</td>\n",
       "      <td>Primera</td>\n",
       "      <td>$/kilo</td>\n",
       "      <td>NaN</td>\n",
       "      <td>NaN</td>\n",
       "      <td>1200.0</td>\n",
       "      <td>2023</td>\n",
       "    </tr>\n",
       "  </tbody>\n",
       "</table>\n",
       "</div>"
      ],
      "text/plain": [
       "         mes  semana fecha_inicio fecha_termino  id_region  \\\n",
       "3493598    2       7   2023-02-13    2023-02-17          5   \n",
       "\n",
       "                       region        sector tipo_de_punto_monitoreo   grupo  \\\n",
       "3493598  Región de Valparaíso  Viña del Mar             Feria libre  Frutas   \n",
       "\n",
       "        producto      variedad  calidad  unidad  precio_minimo  precio_maximo  \\\n",
       "3493598  Durazno  Elegant Lady  Primera  $/kilo            NaN            NaN   \n",
       "\n",
       "         precio_promedio  anyo  \n",
       "3493598           1200.0  2023  "
      ]
     },
     "execution_count": 130,
     "metadata": {},
     "output_type": "execute_result"
    }
   ],
   "source": [
    "processed_df.sample()"
   ]
  },
  {
   "cell_type": "markdown",
   "metadata": {},
   "source": [
    "## Guardado del nuevo df"
   ]
  },
  {
   "cell_type": "code",
   "execution_count": 134,
   "metadata": {},
   "outputs": [],
   "source": [
    "processed_df.to_parquet(\"processed/processed_precios.parquet\")"
   ]
  }
 ],
 "metadata": {
  "kernelspec": {
   "display_name": ".venv",
   "language": "python",
   "name": "python3"
  },
  "language_info": {
   "codemirror_mode": {
    "name": "ipython",
    "version": 3
   },
   "file_extension": ".py",
   "mimetype": "text/x-python",
   "name": "python",
   "nbconvert_exporter": "python",
   "pygments_lexer": "ipython3",
   "version": "3.10.12"
  }
 },
 "nbformat": 4,
 "nbformat_minor": 2
}
